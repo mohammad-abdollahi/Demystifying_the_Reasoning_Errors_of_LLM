{
 "cells": [
  {
   "cell_type": "markdown",
   "id": "29a786ab",
   "metadata": {},
   "source": [
    "## Regular Inputs"
   ]
  },
  {
   "cell_type": "markdown",
   "id": "13705b6b",
   "metadata": {},
   "source": [
    "### Gemini"
   ]
  },
  {
   "cell_type": "markdown",
   "id": "87ec7894",
   "metadata": {},
   "source": [
    "### GPT"
   ]
  },
  {
   "cell_type": "markdown",
   "id": "97931cf4",
   "metadata": {},
   "source": [
    "### Claude"
   ]
  },
  {
   "cell_type": "markdown",
   "id": "8bab723b",
   "metadata": {},
   "source": [
    "### DeepSeek"
   ]
  },
  {
   "cell_type": "markdown",
   "id": "54901057",
   "metadata": {},
   "source": [
    "## Edge Inputs"
   ]
  },
  {
   "cell_type": "markdown",
   "id": "12e2eb2e",
   "metadata": {},
   "source": [
    "### Gemini"
   ]
  },
  {
   "cell_type": "markdown",
   "id": "9f735f0b",
   "metadata": {},
   "source": [
    "### GPT"
   ]
  },
  {
   "cell_type": "markdown",
   "id": "0367fa87",
   "metadata": {},
   "source": [
    "### Claude"
   ]
  },
  {
   "cell_type": "markdown",
   "id": "0d69062c",
   "metadata": {},
   "source": [
    "### DeepSeek"
   ]
  },
  {
   "cell_type": "markdown",
   "id": "f8da3ff1",
   "metadata": {},
   "source": [
    "## Invalid Inputs"
   ]
  },
  {
   "cell_type": "markdown",
   "id": "75781964",
   "metadata": {},
   "source": [
    "### Gemini"
   ]
  },
  {
   "cell_type": "markdown",
   "id": "e8da7d49",
   "metadata": {},
   "source": [
    "### GPT"
   ]
  },
  {
   "cell_type": "markdown",
   "id": "789f2394",
   "metadata": {},
   "source": [
    "### Claude"
   ]
  },
  {
   "cell_type": "markdown",
   "id": "e68e18c0",
   "metadata": {},
   "source": [
    "### DeepSeek"
   ]
  }
 ],
 "metadata": {
  "language_info": {
   "name": "python"
  }
 },
 "nbformat": 4,
 "nbformat_minor": 5
}
