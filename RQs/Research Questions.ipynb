{
 "cells": [
  {
   "cell_type": "markdown",
   "id": "2621e3d6",
   "metadata": {},
   "source": [
    "## RQ1"
   ]
  },
  {
   "cell_type": "code",
   "execution_count": null,
   "id": "c3ea10f4",
   "metadata": {},
   "outputs": [],
   "source": [
    "import pandas as pd\n",
    "\n",
    "df = pd.read_csv('../Annotated Reasoning Errors/HumanEval_Regular_Inputs_ReasoningErrors.csv')\n",
    "print(df[['Question ID', 'LLM']].groupby('LLM').count())\n",
    "df = pd.read_csv('../Annotated Reasoning Errors/Livecodebench_Regular_Inputs_ReasoningErrors.csv')\n",
    "print(df[['Question ID', 'LLM']].groupby('LLM').count())\n",
    "df = pd.read_csv('../Annotated Reasoning Errors/HumanEval_Edge_Inputs_ReasoningErrors.csv')\n",
    "print(df[['Question ID', 'LLM']].groupby('LLM').count())\n",
    "df = pd.read_csv('../Annotated Reasoning Errors/Livecodebench_Edge_Inputs_ReasoningErrors.csv')\n",
    "print(df[['Question ID', 'LLM']].groupby('LLM').count())\n"
   ]
  },
  {
   "cell_type": "markdown",
   "id": "a36ec0b7",
   "metadata": {},
   "source": [
    "## RQ2"
   ]
  },
  {
   "cell_type": "code",
   "execution_count": null,
   "id": "963957de",
   "metadata": {},
   "outputs": [],
   "source": [
    "print('HumanEval Regular Inputs')\n",
    "df = pd.read_csv('../Annotated Reasoning Errors/HumanEval_Regular_Inputs_ReasoningErrors.csv')\n",
    "print(df[['Question ID', 'Error Location']].groupby('Error Location').count())\n",
    "\n",
    "print('Livecodebench Regular Inputs')\n",
    "df = pd.read_csv('../Annotated Reasoning Errors/Livecodebench_Regular_Inputs_ReasoningErrors.csv')\n",
    "print(df[['Question ID', 'Error Location']].groupby('Error Location').count())\n",
    "\n",
    "print('HumanEval Edge Inputs')\n",
    "df = pd.read_csv('../Annotated Reasoning Errors/HumanEval_Edge_Inputs_ReasoningErrors.csv')\n",
    "print(df[['Question ID', 'Error Location']].groupby('Error Location').count())\n",
    "\n",
    "print('Livecodebench Edge Inputs')\n",
    "df = pd.read_csv('../Annotated Reasoning Errors/Livecodebench_Edge_Inputs_ReasoningErrors.csv')\n",
    "print(df[['Question ID', 'Error Location']].groupby('Error Location').count())\n"
   ]
  },
  {
   "cell_type": "markdown",
   "id": "03fd0b2a",
   "metadata": {},
   "source": [
    "## RQ3"
   ]
  },
  {
   "cell_type": "code",
   "execution_count": null,
   "id": "30733070",
   "metadata": {},
   "outputs": [],
   "source": [
    "##RQ3\n",
    "df = pd.read_csv('../Annotated Reasoning Errors/HumanEval_Regular_Inputs_ReasoningErrors.csv')\n",
    "print('HumanEval Regular Inputs')\n",
    "print(df[['Question ID', 'LLM', 'Final Category']].groupby(['Final Category', 'LLM']).count())\n",
    "df = pd.read_csv('../Annotated Reasoning Errors/Livecodebench_Regular_Inputs_ReasoningErrors.csv')\n",
    "print('Livecodebench Regular Inputs')\n",
    "print(df[['Question ID', 'LLM', 'Final Category']].groupby(['Final Category', 'LLM']).count())\n",
    "df = pd.read_csv('../Annotated Reasoning Errors/HumanEval_Edge_Inputs_ReasoningErrors.csv')\n",
    "print('HumanEval Edge Inputs')\n",
    "print(df[['Question ID', 'LLM', 'Final Category']].groupby(['Final Category', 'LLM']).count())\n",
    "df = pd.read_csv('../Annotated Reasoning Errors/Livecodebench_Edge_Inputs_ReasoningErrors.csv')\n",
    "print('Livecodebench Edge Inputs')\n",
    "print(df[['Question ID', 'LLM', 'Final Category']].groupby(['Final Category', 'LLM']).count())\n"
   ]
  }
 ],
 "metadata": {
  "language_info": {
   "name": "python"
  }
 },
 "nbformat": 4,
 "nbformat_minor": 5
}
